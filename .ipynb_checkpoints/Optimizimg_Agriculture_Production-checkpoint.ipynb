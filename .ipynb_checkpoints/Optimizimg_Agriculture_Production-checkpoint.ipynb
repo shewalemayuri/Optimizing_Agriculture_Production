{
 "cells": [
  {
   "cell_type": "markdown",
   "id": "e2369d48",
   "metadata": {},
   "source": [
    "Problem Statement-\n",
    "Build a Predictive model so as so as to most suitable Crops to grow base don available Climate and Soil conditions."
   ]
  },
  {
   "cell_type": "markdown",
   "id": "388b8ccd",
   "metadata": {},
   "source": [
    "Goal-\n",
    "Achieve Precision Farming by Optimizing the Agriculture Production."
   ]
  },
  {
   "cell_type": "code",
   "execution_count": 1,
   "id": "2976e791",
   "metadata": {},
   "outputs": [],
   "source": [
    "import pandas as pd\n",
    "import numpy as np\n",
    "import matplotlib.pyplot as plt\n",
    "import seaborn as sns\n",
    "\n",
    "# for interactivity\n",
    "from ipywidgets import interact"
   ]
  },
  {
   "cell_type": "code",
   "execution_count": 2,
   "id": "03d448ec",
   "metadata": {},
   "outputs": [
    {
     "data": {
      "text/html": [
       "<div>\n",
       "<style scoped>\n",
       "    .dataframe tbody tr th:only-of-type {\n",
       "        vertical-align: middle;\n",
       "    }\n",
       "\n",
       "    .dataframe tbody tr th {\n",
       "        vertical-align: top;\n",
       "    }\n",
       "\n",
       "    .dataframe thead th {\n",
       "        text-align: right;\n",
       "    }\n",
       "</style>\n",
       "<table border=\"1\" class=\"dataframe\">\n",
       "  <thead>\n",
       "    <tr style=\"text-align: right;\">\n",
       "      <th></th>\n",
       "      <th>N</th>\n",
       "      <th>P</th>\n",
       "      <th>K</th>\n",
       "      <th>temperature</th>\n",
       "      <th>humidity</th>\n",
       "      <th>ph</th>\n",
       "      <th>rainfall</th>\n",
       "      <th>label</th>\n",
       "    </tr>\n",
       "  </thead>\n",
       "  <tbody>\n",
       "    <tr>\n",
       "      <th>0</th>\n",
       "      <td>90</td>\n",
       "      <td>42</td>\n",
       "      <td>43</td>\n",
       "      <td>20.879744</td>\n",
       "      <td>82.002744</td>\n",
       "      <td>6.502985</td>\n",
       "      <td>202.935536</td>\n",
       "      <td>rice</td>\n",
       "    </tr>\n",
       "    <tr>\n",
       "      <th>1</th>\n",
       "      <td>85</td>\n",
       "      <td>58</td>\n",
       "      <td>41</td>\n",
       "      <td>21.770462</td>\n",
       "      <td>80.319644</td>\n",
       "      <td>7.038096</td>\n",
       "      <td>226.655537</td>\n",
       "      <td>rice</td>\n",
       "    </tr>\n",
       "    <tr>\n",
       "      <th>2</th>\n",
       "      <td>60</td>\n",
       "      <td>55</td>\n",
       "      <td>44</td>\n",
       "      <td>23.004459</td>\n",
       "      <td>82.320763</td>\n",
       "      <td>7.840207</td>\n",
       "      <td>263.964248</td>\n",
       "      <td>rice</td>\n",
       "    </tr>\n",
       "    <tr>\n",
       "      <th>3</th>\n",
       "      <td>74</td>\n",
       "      <td>35</td>\n",
       "      <td>40</td>\n",
       "      <td>26.491096</td>\n",
       "      <td>80.158363</td>\n",
       "      <td>6.980401</td>\n",
       "      <td>242.864034</td>\n",
       "      <td>rice</td>\n",
       "    </tr>\n",
       "    <tr>\n",
       "      <th>4</th>\n",
       "      <td>78</td>\n",
       "      <td>42</td>\n",
       "      <td>42</td>\n",
       "      <td>20.130175</td>\n",
       "      <td>81.604873</td>\n",
       "      <td>7.628473</td>\n",
       "      <td>262.717340</td>\n",
       "      <td>rice</td>\n",
       "    </tr>\n",
       "  </tbody>\n",
       "</table>\n",
       "</div>"
      ],
      "text/plain": [
       "    N   P   K  temperature   humidity        ph    rainfall label\n",
       "0  90  42  43    20.879744  82.002744  6.502985  202.935536  rice\n",
       "1  85  58  41    21.770462  80.319644  7.038096  226.655537  rice\n",
       "2  60  55  44    23.004459  82.320763  7.840207  263.964248  rice\n",
       "3  74  35  40    26.491096  80.158363  6.980401  242.864034  rice\n",
       "4  78  42  42    20.130175  81.604873  7.628473  262.717340  rice"
      ]
     },
     "execution_count": 2,
     "metadata": {},
     "output_type": "execute_result"
    }
   ],
   "source": [
    "df = pd.read_csv(\"D:\\Data Science\\Excel files\\Crop_recommendation.csv\")\n",
    "df.head()"
   ]
  },
  {
   "cell_type": "code",
   "execution_count": 3,
   "id": "fb1b2b0d",
   "metadata": {},
   "outputs": [
    {
     "data": {
      "text/html": [
       "<div>\n",
       "<style scoped>\n",
       "    .dataframe tbody tr th:only-of-type {\n",
       "        vertical-align: middle;\n",
       "    }\n",
       "\n",
       "    .dataframe tbody tr th {\n",
       "        vertical-align: top;\n",
       "    }\n",
       "\n",
       "    .dataframe thead th {\n",
       "        text-align: right;\n",
       "    }\n",
       "</style>\n",
       "<table border=\"1\" class=\"dataframe\">\n",
       "  <thead>\n",
       "    <tr style=\"text-align: right;\">\n",
       "      <th></th>\n",
       "      <th>N</th>\n",
       "      <th>P</th>\n",
       "      <th>K</th>\n",
       "      <th>temperature</th>\n",
       "      <th>humidity</th>\n",
       "      <th>ph</th>\n",
       "      <th>rainfall</th>\n",
       "    </tr>\n",
       "  </thead>\n",
       "  <tbody>\n",
       "    <tr>\n",
       "      <th>N</th>\n",
       "      <td>1.000000</td>\n",
       "      <td>-0.231460</td>\n",
       "      <td>-0.140512</td>\n",
       "      <td>0.026504</td>\n",
       "      <td>0.190688</td>\n",
       "      <td>0.096683</td>\n",
       "      <td>0.059020</td>\n",
       "    </tr>\n",
       "    <tr>\n",
       "      <th>P</th>\n",
       "      <td>-0.231460</td>\n",
       "      <td>1.000000</td>\n",
       "      <td>0.736232</td>\n",
       "      <td>-0.127541</td>\n",
       "      <td>-0.118734</td>\n",
       "      <td>-0.138019</td>\n",
       "      <td>-0.063839</td>\n",
       "    </tr>\n",
       "    <tr>\n",
       "      <th>K</th>\n",
       "      <td>-0.140512</td>\n",
       "      <td>0.736232</td>\n",
       "      <td>1.000000</td>\n",
       "      <td>-0.160387</td>\n",
       "      <td>0.190859</td>\n",
       "      <td>-0.169503</td>\n",
       "      <td>-0.053461</td>\n",
       "    </tr>\n",
       "    <tr>\n",
       "      <th>temperature</th>\n",
       "      <td>0.026504</td>\n",
       "      <td>-0.127541</td>\n",
       "      <td>-0.160387</td>\n",
       "      <td>1.000000</td>\n",
       "      <td>0.205320</td>\n",
       "      <td>-0.017795</td>\n",
       "      <td>-0.030084</td>\n",
       "    </tr>\n",
       "    <tr>\n",
       "      <th>humidity</th>\n",
       "      <td>0.190688</td>\n",
       "      <td>-0.118734</td>\n",
       "      <td>0.190859</td>\n",
       "      <td>0.205320</td>\n",
       "      <td>1.000000</td>\n",
       "      <td>-0.008483</td>\n",
       "      <td>0.094423</td>\n",
       "    </tr>\n",
       "    <tr>\n",
       "      <th>ph</th>\n",
       "      <td>0.096683</td>\n",
       "      <td>-0.138019</td>\n",
       "      <td>-0.169503</td>\n",
       "      <td>-0.017795</td>\n",
       "      <td>-0.008483</td>\n",
       "      <td>1.000000</td>\n",
       "      <td>-0.109069</td>\n",
       "    </tr>\n",
       "    <tr>\n",
       "      <th>rainfall</th>\n",
       "      <td>0.059020</td>\n",
       "      <td>-0.063839</td>\n",
       "      <td>-0.053461</td>\n",
       "      <td>-0.030084</td>\n",
       "      <td>0.094423</td>\n",
       "      <td>-0.109069</td>\n",
       "      <td>1.000000</td>\n",
       "    </tr>\n",
       "  </tbody>\n",
       "</table>\n",
       "</div>"
      ],
      "text/plain": [
       "                    N         P         K  temperature  humidity        ph  \\\n",
       "N            1.000000 -0.231460 -0.140512     0.026504  0.190688  0.096683   \n",
       "P           -0.231460  1.000000  0.736232    -0.127541 -0.118734 -0.138019   \n",
       "K           -0.140512  0.736232  1.000000    -0.160387  0.190859 -0.169503   \n",
       "temperature  0.026504 -0.127541 -0.160387     1.000000  0.205320 -0.017795   \n",
       "humidity     0.190688 -0.118734  0.190859     0.205320  1.000000 -0.008483   \n",
       "ph           0.096683 -0.138019 -0.169503    -0.017795 -0.008483  1.000000   \n",
       "rainfall     0.059020 -0.063839 -0.053461    -0.030084  0.094423 -0.109069   \n",
       "\n",
       "             rainfall  \n",
       "N            0.059020  \n",
       "P           -0.063839  \n",
       "K           -0.053461  \n",
       "temperature -0.030084  \n",
       "humidity     0.094423  \n",
       "ph          -0.109069  \n",
       "rainfall     1.000000  "
      ]
     },
     "execution_count": 3,
     "metadata": {},
     "output_type": "execute_result"
    }
   ],
   "source": [
    "cr = df.corr()\n",
    "cr"
   ]
  },
  {
   "cell_type": "code",
   "execution_count": null,
   "id": "881817b6",
   "metadata": {},
   "outputs": [
    {
     "data": {
      "text/plain": [
       "<AxesSubplot:>"
      ]
     },
     "execution_count": 4,
     "metadata": {},
     "output_type": "execute_result"
    }
   ],
   "source": [
    "sns.heatmap(cr, annot= True)"
   ]
  },
  {
   "cell_type": "code",
   "execution_count": null,
   "id": "82a04a05",
   "metadata": {},
   "outputs": [],
   "source": [
    "df[\"label\"].unique()"
   ]
  },
  {
   "cell_type": "code",
   "execution_count": null,
   "id": "75b59ba7",
   "metadata": {},
   "outputs": [],
   "source": [
    "df.shape"
   ]
  },
  {
   "cell_type": "code",
   "execution_count": null,
   "id": "7655308a",
   "metadata": {},
   "outputs": [],
   "source": [
    "df.isnull().sum()"
   ]
  },
  {
   "cell_type": "code",
   "execution_count": null,
   "id": "f7861d4c",
   "metadata": {},
   "outputs": [],
   "source": [
    "df[\"label\"].value_counts()"
   ]
  },
  {
   "cell_type": "code",
   "execution_count": null,
   "id": "e8bbfa65",
   "metadata": {},
   "outputs": [],
   "source": [
    "# To show the requirement of N,P,K,temp.,humidity,ph,rainfall\n",
    "print(\"Average Ratio of Nitrogen in the Soil : {0:.2f}\".format(df[\"N\"].mean()))\n",
    "print(\"Average Ratio of Phosphorous in the Soil : {0:.2f}\".format(df[\"P\"].mean()))\n",
    "print(\"Average Ratio of Potassium in the Soil : {0:.2f}\".format(df[\"K\"].mean()))\n",
    "print(\"Average temperature in Celsius : {0:.2f}\".format(df[\"temperature\"].mean()))\n",
    "print(\"Average Relative of humidity in %: {0:.2f}\".format(df[\"humidity\"].mean()))\n",
    "print(\"Average PH value of the Soil : {0:.2f}\".format(df[\"ph\"].mean()))\n",
    "print(\"Average rainfall in mm : {0:.2f}\".format(df[\"rainfall\"].mean()))\n"
   ]
  },
  {
   "cell_type": "code",
   "execution_count": null,
   "id": "581fcfdb",
   "metadata": {},
   "outputs": [],
   "source": [
    "# Lets check the summary statistics for each of the crop\n",
    "\n",
    "@interact\n",
    "def summary(crops =list(df['label'].value_counts().index)):\n",
    "    X = df[df['label'] == crops]\n",
    "    print(\"-----------------------------------------------------\")\n",
    "    print(\"Statistics for Nitrogen\")\n",
    "    print(\"Minimum Nitrogen required :\", X['N'].min())\n",
    "    print(\"Average Nitrogen required :\", X['N'].mean())\n",
    "    print(\"Maximum Nitrogen required :\", X['N'].max())\n",
    "    print(\"-----------------------------------------------------\")\n",
    "    \n",
    "    print(\"Statistics for Phosphorous\")\n",
    "    print(\"Minimum Phosphorous required :\", X['P'].min())\n",
    "    print(\"Average Phosphorous required :\", X['P'].mean())\n",
    "    print(\"Maximum Phosphorous required :\", X['P'].max())\n",
    "    print(\"-----------------------------------------------------\")\n",
    "    \n",
    "    print(\"Statistics for Potassium\")\n",
    "    print(\"Minimum Potassium required :\", X['K'].min())\n",
    "    print(\"Average Potassium required :\", X['K'].mean())\n",
    "    print(\"Maximum Potassium required :\", X['K'].max())\n",
    "    print(\"-----------------------------------------------------\")\n",
    "    \n",
    "    print(\"Statistics for temperature\")\n",
    "    print(\"Minimum temperature required :\", X['temperature'].min())\n",
    "    print(\"Average temperature required :\", X['temperature'].mean())\n",
    "    print(\"Maximum temperature required :\", X['temperature'].max())\n",
    "    print(\"-----------------------------------------------------\")\n",
    "    \n",
    "    print(\"Statistics for Humidity\")\n",
    "    print(\"Minimum Humidity required :\", X['humidity'].min())\n",
    "    print(\"Average Humidity required :\", X['humidity'].mean())\n",
    "    print(\"Maximum Humidity required :\", X['humidity'].max())\n",
    "    print(\"-----------------------------------------------------\")\n",
    "    \n",
    "    print(\"Statistics for PH\")\n",
    "    print(\"Minimum PH required :\", X['ph'].min())\n",
    "    print(\"Average PH required :\", X['ph'].mean())\n",
    "    print(\"Maximum PH required :\", X['ph'].max())\n",
    "    print(\"-----------------------------------------------------\")\n",
    "    \n",
    "    print(\"Statistics for Rainfall\")\n",
    "    print(\"Minimum Rainfall required :\", X['rainfall'].min())\n",
    "    print(\"Average Rainfall required :\", X['rainfall'].mean())\n",
    "    print(\"Maximum Rainfall required :\", X['rainfall'].max())\n",
    "    \n",
    "    "
   ]
  },
  {
   "cell_type": "code",
   "execution_count": null,
   "id": "80bdf799",
   "metadata": {},
   "outputs": [],
   "source": [
    "# Lets compare the Average Requirement for each crop with average conditions\n",
    "\n",
    "@interact\n",
    "def compare(conditions = ['N','P','K','temperature','ph','humidity','rainfall']):\n",
    "    print(\"Average value for\", conditions,\"is {0:.2f}\".format(df[conditions].mean()))\n",
    "    print(\"-----------------------------------------------------\")\n",
    "    \n",
    "    print(\"Rice : {0:.2f}\".format(df[(df['label'] == 'rice')][conditions].mean()))\n",
    "    print(\"Maize : {0:.2f}\".format(df[(df['label'] == 'maize')][conditions].mean()))\n",
    "    print(\"Jute : {0:.2f}\".format(df[(df['label'] == 'jute')][conditions].mean()))\n",
    "    print(\"Cotton : {0:.2f}\".format(df[(df['label'] == 'cotton')][conditions].mean()))\n",
    "    print(\"Coconut : {0:.2f}\".format(df[(df['label'] == 'coconut ')][conditions].mean()))\n",
    "    print(\"Papaya : {0:.2f}\".format(df[(df['label'] == 'papaya')][conditions].mean()))\n",
    "    print(\"Orange : {0:.2f}\".format(df[(df['label'] == 'orange')][conditions].mean()))\n",
    "    print(\"Apple : {0:.2f}\".format(df[(df['label'] == 'apple')][conditions].mean()))\n",
    "    print(\"Muskmelon : {0:.2f}\".format(df[(df['label'] == 'muskmelon')][conditions].mean()))\n",
    "    print(\"watermelon : {0:.2f}\".format(df[(df['label'] == 'watermelon')][conditions].mean()))\n",
    "    print(\"grapes : {0:.2f}\".format(df[(df['label'] == 'grapes')][conditions].mean()))\n",
    "    print(\"mango : {0:.2f}\".format(df[(df['label'] == 'mango')][conditions].mean()))\n",
    "    print(\"banana : {0:.2f}\".format(df[(df['label'] == 'banana')][conditions].mean()))\n",
    "    print(\"pomegranate : {0:.2f}\".format(df[(df['label'] == 'pomegranate')][conditions].mean()))\n",
    "    print(\"lentil : {0:.2f}\".format(df[(df['label'] == 'lentil')][conditions].mean()))\n",
    "    print(\"blackgram : {0:.2f}\".format(df[(df['label'] == 'blackgram')][conditions].mean()))\n",
    "    print(\"mungbean : {0:.2f}\".format(df[(df['label'] == 'mungbean')][conditions].mean()))\n",
    "    print(\"mothbeans : {0:.2f}\".format(df[(df['label'] == 'mothbeans')][conditions].mean()))\n",
    "    print(\"pigeonpeas : {0:.2f}\".format(df[(df['label'] == 'pigeonpeas')][conditions].mean()))\n",
    "    print(\"kidneybeans : {0:.2f}\".format(df[(df['label'] == 'kidneybeans')][conditions].mean()))\n",
    "    print(\"chickpea : {0:.2f}\".format(df[(df['label'] == 'chickpea')][conditions].mean()))\n",
    "    print(\"coffee : {0:.2f}\".format(df[(df['label'] == 'coffee')][conditions].mean()))"
   ]
  },
  {
   "cell_type": "code",
   "execution_count": null,
   "id": "5a15bafe",
   "metadata": {},
   "outputs": [],
   "source": [
    "# Lets make this function more Intuitive\n",
    "\n",
    "@interact\n",
    "def compare(conditions = ['N','P','K','temperature','ph','humidity','rainfall']):\n",
    "    print(\"Crops which require greater than average\", conditions, \"\\n\")\n",
    "    print(df[df[conditions] > df[conditions].mean()][\"label\"].unique())\n",
    "    print(\"-------------------------------------------------------------------\")\n",
    "    print(\"Crops which require less than average\", conditions, \"\\n\")\n",
    "    print(df[df[conditions] <= df[conditions].mean()][\"label\"].unique())"
   ]
  },
  {
   "cell_type": "code",
   "execution_count": null,
   "id": "796bbf36",
   "metadata": {},
   "outputs": [],
   "source": [
    "fig, axes = plt.subplots(nrows=2, ncols=4, figsize=(15, 8))\n",
    "sns.distplot(df['N'], ax=axes[0, 0], color='b')\n",
    "sns.distplot(df['P'], ax=axes[0, 1], color='r')\n",
    "sns.distplot(df['K'], ax=axes[0, 2], color='green')\n",
    "sns.distplot(df['temperature'], ax=axes[0, 3], color='black')\n",
    "sns.distplot(df['ph'], ax=axes[1, 0], color='grey')\n",
    "sns.distplot(df['humidity'], ax=axes[1, 1], color='darkblue')\n",
    "sns.distplot(df['rainfall'], ax=axes[1, 2], color='pink')\n",
    "fig.delaxes(axes[1, 3])\n",
    "fig.suptitle('Distribution for Agriculture Condition', fontsize=20)\n",
    "plt.show()"
   ]
  },
  {
   "cell_type": "code",
   "execution_count": null,
   "id": "b15e1c33",
   "metadata": {},
   "outputs": [],
   "source": [
    "# Lets find out the interesting Facts\n",
    "\n",
    "print(\"Some Interisting Patterns\")\n",
    "print(\"-----------------------------------------------------------------------\")\n",
    "print(\"Crop which requires very High Ratio of Nitrogen Content in Soil :\",df[df['N'] > 120]['label'].unique())\n",
    "print(\"Crop which requires very High Ratio of Phosphorous Content in Soil :\",df[df['P'] > 100]['label'].unique())\n",
    "print(\"Crop which requires very High Ratio of Potassium Content in Soil :\",df[df['K'] > 200]['label'].unique())\n",
    "print(\"Crop which requires very High Rainfall :\",df[df['rainfall'] > 200]['label'].unique())\n",
    "print(\"Crop which requires very Low temperature :\",df[df['temperature'] > 200]['label'].unique())"
   ]
  },
  {
   "cell_type": "code",
   "execution_count": null,
   "id": "7e415942",
   "metadata": {},
   "outputs": [],
   "source": [
    "# Lets understand which crops can only be Grown in Summer Season, Winter Season and Rainy Season\n",
    "print(\"Summer Crops\")\n",
    "print(df[(df['temperature'] > 30) &  (df['humidity'] > 50)]['label'].unique())\n",
    "print(\"-----------------------------------------------------------------\")\n",
    "\n",
    "print(\"Winter Crops\")\n",
    "print(df[(df['temperature'] < 20) &  (df['humidity'] > 30)]['label'].unique())\n",
    "print(\"-----------------------------------------------------------------\")\n",
    "\n",
    "print(\"Rainy Crops\")\n",
    "print(df[(df['rainfall'] > 200) &  (df['humidity'] > 30)]['label'].unique())"
   ]
  },
  {
   "cell_type": "code",
   "execution_count": null,
   "id": "0b757a88",
   "metadata": {},
   "outputs": [],
   "source": [
    "from sklearn.cluster import KMeans"
   ]
  },
  {
   "cell_type": "code",
   "execution_count": null,
   "id": "70efd3ed",
   "metadata": {},
   "outputs": [],
   "source": [
    "# Removing the labels collumn\n",
    "X = df.drop(['label'], axis=1)\n",
    "\n",
    "# selecting all the values of the data\n",
    "X = X.values\n",
    "\n",
    "# checking hte shape\n",
    "print(X.shape)"
   ]
  },
  {
   "cell_type": "code",
   "execution_count": null,
   "id": "bdd05621",
   "metadata": {},
   "outputs": [],
   "source": [
    "# Lets determine the Optimum Number of Cluster within the dataset\n",
    "\n",
    "plt.rcParams['figure.figsize'] = (10,4)\n",
    "\n",
    "wcss = []\n",
    "for i in range(1, 11):\n",
    "    km = KMeans(n_clusters = i, init = 'k-means++', max_iter = 300,n_init = 10, random_state = 0)\n",
    "    km.fit(X)\n",
    "    wcss.append(km.inertia_)\n",
    "    \n",
    "# Lets plot the results\n",
    "plt.plot(range(1, 11), wcss)\n",
    "plt.title(\"The Elbow Method\", fontsize = 20)\n",
    "plt.xlabel(\"No. of Clusters\")\n",
    "plt.ylabel(\"wcss\")\n",
    "plt.show()"
   ]
  },
  {
   "cell_type": "code",
   "execution_count": null,
   "id": "679266b1",
   "metadata": {},
   "outputs": [],
   "source": [
    "# Lets implement the K Means algorithm to perform Clustering analysis\n",
    "km = KMeans(n_clusters = 4, init = 'k-means++', max_iter =300, n_init = 10, random_state = 0)\n",
    "y_means = km.fit_predict(X)\n",
    "\n",
    "# Lets find outs the Results\n",
    "a = df['label']\n",
    "y_means = pd.DataFrame(y_means)\n",
    "z = pd.concat([y_means, a], axis = 1)\n",
    "z = z.rename(columns = {0 : 'cluster'})\n",
    "\n",
    "# Lets check the Clusters of each Crops\n",
    "print(\"Lets check the Results After Applying the K Means Clustering Analysis \\n\")\n",
    "print(\"Crops in First Cluster:\", z[z['cluster'] == 0]['label'].unique())\n",
    "print(\"-----------------------------------------------------------------\")\n",
    "print(\"Crops in Second Cluster:\", z[z['cluster'] == 1]['label'].unique())\n",
    "print(\"-----------------------------------------------------------------\")\n",
    "print(\"Crops in Third Cluster:\", z[z['cluster'] == 2]['label'].unique())\n",
    "print(\"-----------------------------------------------------------------\")\n",
    "print(\"Crops in Fourth Cluster:\", z[z['cluster'] == 3]['label'].unique())"
   ]
  },
  {
   "cell_type": "code",
   "execution_count": null,
   "id": "91b46217",
   "metadata": {},
   "outputs": [],
   "source": [
    "# Lets spilt the Dataset for Predictive Modelling\n",
    "\n",
    "X = df.drop(['label'], axis =1)\n",
    "y = df['label']"
   ]
  },
  {
   "cell_type": "code",
   "execution_count": null,
   "id": "a94b1ba7",
   "metadata": {},
   "outputs": [],
   "source": [
    "X.shape, y.shape"
   ]
  },
  {
   "cell_type": "code",
   "execution_count": null,
   "id": "e6250b03",
   "metadata": {},
   "outputs": [],
   "source": [
    "# Lets create Training and Testing Sets for Validation of Results\n",
    "\n",
    "from sklearn.model_selection import train_test_split"
   ]
  },
  {
   "cell_type": "code",
   "execution_count": null,
   "id": "ca493ae1",
   "metadata": {},
   "outputs": [],
   "source": [
    "X_train, X_test, y_train, y_test = train_test_split(X, y, test_size=0.20, random_state=42)"
   ]
  },
  {
   "cell_type": "code",
   "execution_count": null,
   "id": "ce085239",
   "metadata": {},
   "outputs": [],
   "source": [
    "X_train.shape, X_test.shape"
   ]
  },
  {
   "cell_type": "code",
   "execution_count": null,
   "id": "841bc34f",
   "metadata": {},
   "outputs": [],
   "source": [
    "y_train.shape, y_test.shape"
   ]
  },
  {
   "cell_type": "code",
   "execution_count": null,
   "id": "a7ff1de4",
   "metadata": {},
   "outputs": [],
   "source": [
    "# Lets create a Predictive Model\n",
    "from sklearn.linear_model import LogisticRegression"
   ]
  },
  {
   "cell_type": "code",
   "execution_count": null,
   "id": "e2d108d1",
   "metadata": {},
   "outputs": [],
   "source": [
    "model = LogisticRegression()"
   ]
  },
  {
   "cell_type": "code",
   "execution_count": null,
   "id": "2ffd46be",
   "metadata": {},
   "outputs": [],
   "source": [
    "model.fit(X_train,y_train)"
   ]
  },
  {
   "cell_type": "code",
   "execution_count": null,
   "id": "e4fdb993",
   "metadata": {},
   "outputs": [],
   "source": [
    "model.score(X_test,y_test)"
   ]
  },
  {
   "cell_type": "code",
   "execution_count": null,
   "id": "0deadb17",
   "metadata": {},
   "outputs": [],
   "source": [
    "y_pred = model.predict(X_test)\n",
    "y_pred"
   ]
  },
  {
   "cell_type": "code",
   "execution_count": null,
   "id": "74ce07c3",
   "metadata": {},
   "outputs": [],
   "source": [
    "# Lets evaluate the Model Performance\n",
    "\n",
    "from sklearn.metrics import confusion_matrix"
   ]
  },
  {
   "cell_type": "code",
   "execution_count": null,
   "id": "4b36c631",
   "metadata": {},
   "outputs": [],
   "source": [
    "# Lets print the Confusion matrix first\n",
    "plt.rcParams['figure.figsize'] = (10,10)\n",
    "cm = confusion_matrix(y_test, y_pred)"
   ]
  },
  {
   "cell_type": "code",
   "execution_count": null,
   "id": "7fe66d70",
   "metadata": {},
   "outputs": [],
   "source": [
    "sns.heatmap(cm, annot=True , cmap = 'Wistia')\n",
    "plt.title('Confusion Matrix for Logistic Regression', fontsize = 15)\n",
    "plt.show()"
   ]
  },
  {
   "cell_type": "code",
   "execution_count": null,
   "id": "73644fe6",
   "metadata": {},
   "outputs": [],
   "source": [
    "# Lets print the Classification Report also\n",
    "\n",
    "from sklearn.metrics import classification_report\n",
    "cr = classification_report(y_test, y_pred)\n",
    "print(cr)"
   ]
  },
  {
   "cell_type": "code",
   "execution_count": null,
   "id": "06ca6133",
   "metadata": {},
   "outputs": [],
   "source": [
    "# Lets check the Head of Dataset\n",
    "df.tail()"
   ]
  },
  {
   "cell_type": "code",
   "execution_count": null,
   "id": "76d5c66c",
   "metadata": {},
   "outputs": [],
   "source": [
    "Prediction = model.predict((np.array([[120,\n",
    "                                       30,\n",
    "                                       30,\n",
    "                                       20,\n",
    "                                       70,\n",
    "                                       7,\n",
    "                                       180]])))\n",
    "print(\"The Suggested Crop for Given Climatic Condition is :\", Prediction)"
   ]
  },
  {
   "cell_type": "code",
   "execution_count": null,
   "id": "7261e51e",
   "metadata": {},
   "outputs": [],
   "source": []
  }
 ],
 "metadata": {
  "kernelspec": {
   "display_name": "Python 3 (ipykernel)",
   "language": "python",
   "name": "python3"
  },
  "language_info": {
   "codemirror_mode": {
    "name": "ipython",
    "version": 3
   },
   "file_extension": ".py",
   "mimetype": "text/x-python",
   "name": "python",
   "nbconvert_exporter": "python",
   "pygments_lexer": "ipython3",
   "version": "3.9.12"
  }
 },
 "nbformat": 4,
 "nbformat_minor": 5
}
