{
 "cells": [
  {
   "cell_type": "code",
   "execution_count": 5,
   "metadata": {
    "_cell_guid": "b1076dfc-b9ad-4769-8c92-a6c4dae69d19",
    "_uuid": "8f2839f25d086af736a60e9eeb907d3b93b6e0e5",
    "execution": {
     "iopub.execute_input": "2021-08-07T10:37:12.395421Z",
     "iopub.status.busy": "2021-08-07T10:37:12.394953Z",
     "iopub.status.idle": "2021-08-07T10:37:12.420336Z",
     "shell.execute_reply": "2021-08-07T10:37:12.419194Z",
     "shell.execute_reply.started": "2021-08-07T10:37:12.395327Z"
    }
   },
   "outputs": [],
   "source": [
    "# This Python 3 environment comes with many helpful analytics libraries installed\n",
    "# It is defined by the kaggle/python Docker image: https://github.com/kaggle/docker-python\n",
    "# For example, here's several helpful packages to load\n",
    "\n",
    "import numpy as np # linear algebra\n",
    "import pandas as pd # data processing, CSV file I/O (e.g. pd.read_csv)\n",
    "\n",
    "# Input data files are available in the read-only \"../input/\" directory\n",
    "# For example, running this (by clicking run or pressing Shift+Enter) will list all files under the input directory\n",
    "\n",
    "import os\n",
    "for dirname, _, filenames in os.walk('/kaggle/input'):\n",
    "    for filename in filenames:\n",
    "        print(os.path.join(dirname, filename))\n",
    "\n",
    "# You can write up to 20GB to the current directory (/kaggle/working/) that gets preserved as output when you create a version using \"Save & Run All\" \n",
    "# You can also write temporary files to /kaggle/temp/, but they won't be saved outside of the current session"
   ]
  },
  {
   "cell_type": "code",
   "execution_count": 6,
   "metadata": {
    "execution": {
     "iopub.execute_input": "2021-08-07T10:37:12.422703Z",
     "iopub.status.busy": "2021-08-07T10:37:12.422262Z",
     "iopub.status.idle": "2021-08-07T10:37:13.290763Z",
     "shell.execute_reply": "2021-08-07T10:37:13.289636Z",
     "shell.execute_reply.started": "2021-08-07T10:37:12.422658Z"
    }
   },
   "outputs": [],
   "source": [
    "import numpy as np\n",
    "import pandas as pd\n",
    "import matplotlib.pyplot as plt\n",
    "import seaborn as sns\n",
    "#for interactivity\n",
    "from ipywidgets import interact"
   ]
  },
  {
   "cell_type": "code",
   "execution_count": 7,
   "metadata": {
    "execution": {
     "iopub.execute_input": "2021-08-07T10:37:13.292885Z",
     "iopub.status.busy": "2021-08-07T10:37:13.292556Z",
     "iopub.status.idle": "2021-08-07T10:37:13.316751Z",
     "shell.execute_reply": "2021-08-07T10:37:13.315658Z",
     "shell.execute_reply.started": "2021-08-07T10:37:13.292856Z"
    }
   },
   "outputs": [
    {
     "data": {
      "text/plain": [
       "(2200, 8)"
      ]
     },
     "execution_count": 7,
     "metadata": {},
     "output_type": "execute_result"
    }
   ],
   "source": [
    "df= pd.read_csv('D:\\Data Science\\Excel files\\Crop_recommendation.csv')\n",
    "df.shape"
   ]
  },
  {
   "cell_type": "code",
   "execution_count": 8,
   "metadata": {
    "execution": {
     "iopub.execute_input": "2021-08-07T10:37:13.318743Z",
     "iopub.status.busy": "2021-08-07T10:37:13.318303Z",
     "iopub.status.idle": "2021-08-07T10:37:13.346528Z",
     "shell.execute_reply": "2021-08-07T10:37:13.345567Z",
     "shell.execute_reply.started": "2021-08-07T10:37:13.318708Z"
    }
   },
   "outputs": [
    {
     "data": {
      "text/html": [
       "<div>\n",
       "<style scoped>\n",
       "    .dataframe tbody tr th:only-of-type {\n",
       "        vertical-align: middle;\n",
       "    }\n",
       "\n",
       "    .dataframe tbody tr th {\n",
       "        vertical-align: top;\n",
       "    }\n",
       "\n",
       "    .dataframe thead th {\n",
       "        text-align: right;\n",
       "    }\n",
       "</style>\n",
       "<table border=\"1\" class=\"dataframe\">\n",
       "  <thead>\n",
       "    <tr style=\"text-align: right;\">\n",
       "      <th></th>\n",
       "      <th>N</th>\n",
       "      <th>P</th>\n",
       "      <th>K</th>\n",
       "      <th>temperature</th>\n",
       "      <th>humidity</th>\n",
       "      <th>ph</th>\n",
       "      <th>rainfall</th>\n",
       "      <th>label</th>\n",
       "    </tr>\n",
       "  </thead>\n",
       "  <tbody>\n",
       "    <tr>\n",
       "      <th>0</th>\n",
       "      <td>90</td>\n",
       "      <td>42</td>\n",
       "      <td>43</td>\n",
       "      <td>20.879744</td>\n",
       "      <td>82.002744</td>\n",
       "      <td>6.502985</td>\n",
       "      <td>202.935536</td>\n",
       "      <td>rice</td>\n",
       "    </tr>\n",
       "    <tr>\n",
       "      <th>1</th>\n",
       "      <td>85</td>\n",
       "      <td>58</td>\n",
       "      <td>41</td>\n",
       "      <td>21.770462</td>\n",
       "      <td>80.319644</td>\n",
       "      <td>7.038096</td>\n",
       "      <td>226.655537</td>\n",
       "      <td>rice</td>\n",
       "    </tr>\n",
       "    <tr>\n",
       "      <th>2</th>\n",
       "      <td>60</td>\n",
       "      <td>55</td>\n",
       "      <td>44</td>\n",
       "      <td>23.004459</td>\n",
       "      <td>82.320763</td>\n",
       "      <td>7.840207</td>\n",
       "      <td>263.964248</td>\n",
       "      <td>rice</td>\n",
       "    </tr>\n",
       "    <tr>\n",
       "      <th>3</th>\n",
       "      <td>74</td>\n",
       "      <td>35</td>\n",
       "      <td>40</td>\n",
       "      <td>26.491096</td>\n",
       "      <td>80.158363</td>\n",
       "      <td>6.980401</td>\n",
       "      <td>242.864034</td>\n",
       "      <td>rice</td>\n",
       "    </tr>\n",
       "    <tr>\n",
       "      <th>4</th>\n",
       "      <td>78</td>\n",
       "      <td>42</td>\n",
       "      <td>42</td>\n",
       "      <td>20.130175</td>\n",
       "      <td>81.604873</td>\n",
       "      <td>7.628473</td>\n",
       "      <td>262.717340</td>\n",
       "      <td>rice</td>\n",
       "    </tr>\n",
       "  </tbody>\n",
       "</table>\n",
       "</div>"
      ],
      "text/plain": [
       "    N   P   K  temperature   humidity        ph    rainfall label\n",
       "0  90  42  43    20.879744  82.002744  6.502985  202.935536  rice\n",
       "1  85  58  41    21.770462  80.319644  7.038096  226.655537  rice\n",
       "2  60  55  44    23.004459  82.320763  7.840207  263.964248  rice\n",
       "3  74  35  40    26.491096  80.158363  6.980401  242.864034  rice\n",
       "4  78  42  42    20.130175  81.604873  7.628473  262.717340  rice"
      ]
     },
     "execution_count": 8,
     "metadata": {},
     "output_type": "execute_result"
    }
   ],
   "source": [
    "df.head()"
   ]
  },
  {
   "cell_type": "code",
   "execution_count": 9,
   "metadata": {
    "execution": {
     "iopub.execute_input": "2021-08-07T10:37:13.348163Z",
     "iopub.status.busy": "2021-08-07T10:37:13.347864Z",
     "iopub.status.idle": "2021-08-07T10:37:13.358203Z",
     "shell.execute_reply": "2021-08-07T10:37:13.357020Z",
     "shell.execute_reply.started": "2021-08-07T10:37:13.348136Z"
    }
   },
   "outputs": [
    {
     "data": {
      "text/plain": [
       "N              0\n",
       "P              0\n",
       "K              0\n",
       "temperature    0\n",
       "humidity       0\n",
       "ph             0\n",
       "rainfall       0\n",
       "label          0\n",
       "dtype: int64"
      ]
     },
     "execution_count": 9,
     "metadata": {},
     "output_type": "execute_result"
    }
   ],
   "source": [
    "df.isnull().sum()"
   ]
  },
  {
   "cell_type": "code",
   "execution_count": 10,
   "metadata": {
    "execution": {
     "iopub.execute_input": "2021-08-07T10:37:13.359917Z",
     "iopub.status.busy": "2021-08-07T10:37:13.359587Z",
     "iopub.status.idle": "2021-08-07T10:37:13.376317Z",
     "shell.execute_reply": "2021-08-07T10:37:13.374720Z",
     "shell.execute_reply.started": "2021-08-07T10:37:13.359867Z"
    }
   },
   "outputs": [
    {
     "data": {
      "text/plain": [
       "rice           100\n",
       "maize          100\n",
       "jute           100\n",
       "cotton         100\n",
       "coconut        100\n",
       "papaya         100\n",
       "orange         100\n",
       "apple          100\n",
       "muskmelon      100\n",
       "watermelon     100\n",
       "grapes         100\n",
       "mango          100\n",
       "banana         100\n",
       "pomegranate    100\n",
       "lentil         100\n",
       "blackgram      100\n",
       "mungbean       100\n",
       "mothbeans      100\n",
       "pigeonpeas     100\n",
       "kidneybeans    100\n",
       "chickpea       100\n",
       "coffee         100\n",
       "Name: label, dtype: int64"
      ]
     },
     "execution_count": 10,
     "metadata": {},
     "output_type": "execute_result"
    }
   ],
   "source": [
    "df['label'].value_counts()"
   ]
  },
  {
   "cell_type": "code",
   "execution_count": 11,
   "metadata": {
    "execution": {
     "iopub.execute_input": "2021-08-07T10:37:13.378906Z",
     "iopub.status.busy": "2021-08-07T10:37:13.378564Z",
     "iopub.status.idle": "2021-08-07T10:37:13.415227Z",
     "shell.execute_reply": "2021-08-07T10:37:13.414210Z",
     "shell.execute_reply.started": "2021-08-07T10:37:13.378877Z"
    }
   },
   "outputs": [
    {
     "data": {
      "text/html": [
       "<div>\n",
       "<style scoped>\n",
       "    .dataframe tbody tr th:only-of-type {\n",
       "        vertical-align: middle;\n",
       "    }\n",
       "\n",
       "    .dataframe tbody tr th {\n",
       "        vertical-align: top;\n",
       "    }\n",
       "\n",
       "    .dataframe thead th {\n",
       "        text-align: right;\n",
       "    }\n",
       "</style>\n",
       "<table border=\"1\" class=\"dataframe\">\n",
       "  <thead>\n",
       "    <tr style=\"text-align: right;\">\n",
       "      <th></th>\n",
       "      <th>N</th>\n",
       "      <th>P</th>\n",
       "      <th>K</th>\n",
       "      <th>temperature</th>\n",
       "      <th>humidity</th>\n",
       "      <th>ph</th>\n",
       "      <th>rainfall</th>\n",
       "    </tr>\n",
       "  </thead>\n",
       "  <tbody>\n",
       "    <tr>\n",
       "      <th>count</th>\n",
       "      <td>2200.000000</td>\n",
       "      <td>2200.000000</td>\n",
       "      <td>2200.000000</td>\n",
       "      <td>2200.000000</td>\n",
       "      <td>2200.000000</td>\n",
       "      <td>2200.000000</td>\n",
       "      <td>2200.000000</td>\n",
       "    </tr>\n",
       "    <tr>\n",
       "      <th>mean</th>\n",
       "      <td>50.551818</td>\n",
       "      <td>53.362727</td>\n",
       "      <td>48.149091</td>\n",
       "      <td>25.616244</td>\n",
       "      <td>71.481779</td>\n",
       "      <td>6.469480</td>\n",
       "      <td>103.463655</td>\n",
       "    </tr>\n",
       "    <tr>\n",
       "      <th>std</th>\n",
       "      <td>36.917334</td>\n",
       "      <td>32.985883</td>\n",
       "      <td>50.647931</td>\n",
       "      <td>5.063749</td>\n",
       "      <td>22.263812</td>\n",
       "      <td>0.773938</td>\n",
       "      <td>54.958389</td>\n",
       "    </tr>\n",
       "    <tr>\n",
       "      <th>min</th>\n",
       "      <td>0.000000</td>\n",
       "      <td>5.000000</td>\n",
       "      <td>5.000000</td>\n",
       "      <td>8.825675</td>\n",
       "      <td>14.258040</td>\n",
       "      <td>3.504752</td>\n",
       "      <td>20.211267</td>\n",
       "    </tr>\n",
       "    <tr>\n",
       "      <th>25%</th>\n",
       "      <td>21.000000</td>\n",
       "      <td>28.000000</td>\n",
       "      <td>20.000000</td>\n",
       "      <td>22.769375</td>\n",
       "      <td>60.261953</td>\n",
       "      <td>5.971693</td>\n",
       "      <td>64.551686</td>\n",
       "    </tr>\n",
       "    <tr>\n",
       "      <th>50%</th>\n",
       "      <td>37.000000</td>\n",
       "      <td>51.000000</td>\n",
       "      <td>32.000000</td>\n",
       "      <td>25.598693</td>\n",
       "      <td>80.473146</td>\n",
       "      <td>6.425045</td>\n",
       "      <td>94.867624</td>\n",
       "    </tr>\n",
       "    <tr>\n",
       "      <th>75%</th>\n",
       "      <td>84.250000</td>\n",
       "      <td>68.000000</td>\n",
       "      <td>49.000000</td>\n",
       "      <td>28.561654</td>\n",
       "      <td>89.948771</td>\n",
       "      <td>6.923643</td>\n",
       "      <td>124.267508</td>\n",
       "    </tr>\n",
       "    <tr>\n",
       "      <th>max</th>\n",
       "      <td>140.000000</td>\n",
       "      <td>145.000000</td>\n",
       "      <td>205.000000</td>\n",
       "      <td>43.675493</td>\n",
       "      <td>99.981876</td>\n",
       "      <td>9.935091</td>\n",
       "      <td>298.560117</td>\n",
       "    </tr>\n",
       "  </tbody>\n",
       "</table>\n",
       "</div>"
      ],
      "text/plain": [
       "                 N            P            K  temperature     humidity  \\\n",
       "count  2200.000000  2200.000000  2200.000000  2200.000000  2200.000000   \n",
       "mean     50.551818    53.362727    48.149091    25.616244    71.481779   \n",
       "std      36.917334    32.985883    50.647931     5.063749    22.263812   \n",
       "min       0.000000     5.000000     5.000000     8.825675    14.258040   \n",
       "25%      21.000000    28.000000    20.000000    22.769375    60.261953   \n",
       "50%      37.000000    51.000000    32.000000    25.598693    80.473146   \n",
       "75%      84.250000    68.000000    49.000000    28.561654    89.948771   \n",
       "max     140.000000   145.000000   205.000000    43.675493    99.981876   \n",
       "\n",
       "                ph     rainfall  \n",
       "count  2200.000000  2200.000000  \n",
       "mean      6.469480   103.463655  \n",
       "std       0.773938    54.958389  \n",
       "min       3.504752    20.211267  \n",
       "25%       5.971693    64.551686  \n",
       "50%       6.425045    94.867624  \n",
       "75%       6.923643   124.267508  \n",
       "max       9.935091   298.560117  "
      ]
     },
     "execution_count": 11,
     "metadata": {},
     "output_type": "execute_result"
    }
   ],
   "source": [
    "df.describe()"
   ]
  },
  {
   "cell_type": "code",
   "execution_count": 35,
   "metadata": {
    "execution": {
     "iopub.execute_input": "2021-08-07T10:37:13.417231Z",
     "iopub.status.busy": "2021-08-07T10:37:13.416933Z",
     "iopub.status.idle": "2021-08-07T10:37:13.480500Z",
     "shell.execute_reply": "2021-08-07T10:37:13.479467Z",
     "shell.execute_reply.started": "2021-08-07T10:37:13.417200Z"
    }
   },
   "outputs": [
    {
     "data": {
      "application/vnd.jupyter.widget-view+json": {
       "model_id": "691cb4e1c542402487b1b48c2c5b920e",
       "version_major": 2,
       "version_minor": 0
      },
      "text/plain": [
       "interactive(children=(Dropdown(description='crops', options=('rice', 'maize', 'jute', 'cotton', 'coconut', 'pa…"
      ]
     },
     "metadata": {},
     "output_type": "display_data"
    }
   ],
   "source": [
    "@interact\n",
    "def summary(crops = list(df['label'].value_counts().index)):\n",
    "    x = df[df['label']== crops]\n",
    "    z = df.drop(['label'],axis=1)\n",
    "    y = []\n",
    "    y.append(z)\n",
    "    for i in z:\n",
    "        print('Minimum', i, 'required', x[i].min())\n",
    "        print('Average', i, 'required', x[i].mean())\n",
    "        print('Maximum', i, 'required', x[i].max())\n",
    "        print('--------------------------------------------------')"
   ]
  },
  {
   "cell_type": "code",
   "execution_count": 36,
   "metadata": {
    "execution": {
     "iopub.execute_input": "2021-08-07T10:37:13.482080Z",
     "iopub.status.busy": "2021-08-07T10:37:13.481773Z",
     "iopub.status.idle": "2021-08-07T10:37:13.491760Z",
     "shell.execute_reply": "2021-08-07T10:37:13.490743Z",
     "shell.execute_reply.started": "2021-08-07T10:37:13.482050Z"
    }
   },
   "outputs": [
    {
     "data": {
      "text/plain": [
       "N              0.509721\n",
       "P              1.010773\n",
       "K              2.375167\n",
       "temperature    0.184933\n",
       "humidity      -1.091708\n",
       "ph             0.283929\n",
       "rainfall       0.965756\n",
       "dtype: float64"
      ]
     },
     "execution_count": 36,
     "metadata": {},
     "output_type": "execute_result"
    }
   ],
   "source": [
    "df.skew()"
   ]
  },
  {
   "cell_type": "code",
   "execution_count": 37,
   "metadata": {
    "execution": {
     "iopub.execute_input": "2021-08-07T10:37:13.493668Z",
     "iopub.status.busy": "2021-08-07T10:37:13.493235Z",
     "iopub.status.idle": "2021-08-07T10:37:15.150475Z",
     "shell.execute_reply": "2021-08-07T10:37:15.149367Z",
     "shell.execute_reply.started": "2021-08-07T10:37:13.493623Z"
    }
   },
   "outputs": [
    {
     "data": {
      "text/plain": [
       "array([[<AxesSubplot:title={'center':'N'}>,\n",
       "        <AxesSubplot:title={'center':'P'}>,\n",
       "        <AxesSubplot:title={'center':'K'}>,\n",
       "        <AxesSubplot:title={'center':'temperature'}>],\n",
       "       [<AxesSubplot:title={'center':'humidity'}>,\n",
       "        <AxesSubplot:title={'center':'ph'}>,\n",
       "        <AxesSubplot:title={'center':'rainfall'}>, <AxesSubplot:>],\n",
       "       [<AxesSubplot:>, <AxesSubplot:>, <AxesSubplot:>, <AxesSubplot:>],\n",
       "       [<AxesSubplot:>, <AxesSubplot:>, <AxesSubplot:>, <AxesSubplot:>]],\n",
       "      dtype=object)"
      ]
     },
     "execution_count": 37,
     "metadata": {},
     "output_type": "execute_result"
    },
    {
     "data": {
      "image/png": "[encoded data removed]",
      "text/plain": [
       "<Figure size 1080x1080 with 16 Axes>"
      ]
     },
     "metadata": {
      "needs_background": "light"
     },
     "output_type": "display_data"
    }
   ],
   "source": [
    "df.hist(figsize=(15,15), layout=(4,4), bins=20)"
   ]
  },
  {
   "cell_type": "markdown",
   "metadata": {},
   "source": [
    "observation:\n",
    "1. P is right skewed\n",
    "2. Humidity left skewed"
   ]
  },
  {
   "cell_type": "code",
   "execution_count": 38,
   "metadata": {
    "execution": {
     "iopub.execute_input": "2021-08-07T10:37:15.152114Z",
     "iopub.status.busy": "2021-08-07T10:37:15.151799Z",
     "iopub.status.idle": "2021-08-07T10:37:15.192974Z",
     "shell.execute_reply": "2021-08-07T10:37:15.191707Z",
     "shell.execute_reply.started": "2021-08-07T10:37:15.152083Z"
    }
   },
   "outputs": [
    {
     "name": "stdout",
     "output_type": "stream",
     "text": [
      "crops which requires very high ratio of Nitrogen content in soil: ['cotton']\n",
      "crops which requires very high ratio of Phosphorous content in soil: ['grapes' 'apple']\n",
      "crops which requires very high ratio of Potassium content in soil: ['grapes' 'apple']\n",
      "crops which requires very high rainfall: ['rice' 'papaya' 'coconut']\n",
      "crops which requires very low temperature: ['grapes']\n",
      "crops which requires very high temperature: ['grapes' 'papaya']\n",
      "crops which requires very low humidity: ['chickpea' 'kidneybeans']\n",
      "crops which requires very low ph: ['mothbeans']\n",
      "crops which requires very high ph: ['mothbeans']\n"
     ]
    }
   ],
   "source": [
    "print('crops which requires very high ratio of Nitrogen content in soil:', df[df['N']>120]['label'].unique())\n",
    "print('crops which requires very high ratio of Phosphorous content in soil:', df[df['P']>100]['label'].unique())\n",
    "print('crops which requires very high ratio of Potassium content in soil:', df[df['K']>200]['label'].unique())\n",
    "print('crops which requires very high rainfall:', df[df['rainfall']>200]['label'].unique())\n",
    "print('crops which requires very low temperature:', df[df['temperature']<10]['label'].unique())\n",
    "print('crops which requires very high temperature:', df[df['temperature']>40]['label'].unique())\n",
    "print('crops which requires very low humidity:', df[df['humidity']<20]['label'].unique())\n",
    "print('crops which requires very low ph:', df[df['ph']<4]['label'].unique())\n",
    "print('crops which requires very high ph:', df[df['ph']>9]['label'].unique())"
   ]
  },
  {
   "cell_type": "markdown",
   "metadata": {},
   "source": [
    "observation:\n",
    "\n",
    "we can see mothbeens grow in very low and very high pH conditions so pH is not a major factor for mothbeens"
   ]
  },
  {
   "cell_type": "code",
   "execution_count": 39,
   "metadata": {
    "execution": {
     "iopub.execute_input": "2021-08-07T10:37:15.196378Z",
     "iopub.status.busy": "2021-08-07T10:37:15.195718Z",
     "iopub.status.idle": "2021-08-07T10:37:15.209956Z",
     "shell.execute_reply": "2021-08-07T10:37:15.208816Z",
     "shell.execute_reply.started": "2021-08-07T10:37:15.196323Z"
    }
   },
   "outputs": [
    {
     "name": "stdout",
     "output_type": "stream",
     "text": [
      "Summer Crops: ['pigeonpeas' 'mothbeans' 'blackgram' 'mango' 'grapes' 'orange' 'papaya']\n",
      "Winter Crops: ['maize' 'pigeonpeas' 'lentil' 'pomegranate' 'grapes' 'orange']\n",
      "Rainy Crops: ['rice' 'papaya' 'coconut']\n"
     ]
    }
   ],
   "source": [
    "print('Summer Crops:', df[(df['temperature']>30) & (df['humidity']>50)]['label'].unique())\n",
    "print('Winter Crops:', df[(df['temperature']<20) & (df['humidity']>30)]['label'].unique())\n",
    "print('Rainy Crops:', df[(df['rainfall']>200) & (df['humidity']>30)]['label'].unique())"
   ]
  },
  {
   "cell_type": "code",
   "execution_count": 40,
   "metadata": {
    "execution": {
     "iopub.execute_input": "2021-08-07T10:37:15.211557Z",
     "iopub.status.busy": "2021-08-07T10:37:15.211264Z",
     "iopub.status.idle": "2021-08-07T10:37:15.216637Z",
     "shell.execute_reply": "2021-08-07T10:37:15.215690Z",
     "shell.execute_reply.started": "2021-08-07T10:37:15.211528Z"
    }
   },
   "outputs": [],
   "source": [
    "import warnings\n",
    "warnings.filterwarnings('ignore')\n"
   ]
  },
  {
   "cell_type": "code",
   "execution_count": 41,
   "metadata": {
    "execution": {
     "iopub.execute_input": "2021-08-07T10:37:15.218378Z",
     "iopub.status.busy": "2021-08-07T10:37:15.218063Z",
     "iopub.status.idle": "2021-08-07T10:37:15.238567Z",
     "shell.execute_reply": "2021-08-07T10:37:15.237812Z",
     "shell.execute_reply.started": "2021-08-07T10:37:15.218346Z"
    }
   },
   "outputs": [
    {
     "data": {
      "text/html": [
       "<div>\n",
       "<style scoped>\n",
       "    .dataframe tbody tr th:only-of-type {\n",
       "        vertical-align: middle;\n",
       "    }\n",
       "\n",
       "    .dataframe tbody tr th {\n",
       "        vertical-align: top;\n",
       "    }\n",
       "\n",
       "    .dataframe thead th {\n",
       "        text-align: right;\n",
       "    }\n",
       "</style>\n",
       "<table border=\"1\" class=\"dataframe\">\n",
       "  <thead>\n",
       "    <tr style=\"text-align: right;\">\n",
       "      <th></th>\n",
       "      <th>0</th>\n",
       "      <th>1</th>\n",
       "      <th>2</th>\n",
       "      <th>3</th>\n",
       "      <th>4</th>\n",
       "      <th>5</th>\n",
       "      <th>6</th>\n",
       "    </tr>\n",
       "  </thead>\n",
       "  <tbody>\n",
       "    <tr>\n",
       "      <th>0</th>\n",
       "      <td>90.0</td>\n",
       "      <td>42.0</td>\n",
       "      <td>43.0</td>\n",
       "      <td>20.879744</td>\n",
       "      <td>82.002744</td>\n",
       "      <td>6.502985</td>\n",
       "      <td>202.935536</td>\n",
       "    </tr>\n",
       "    <tr>\n",
       "      <th>1</th>\n",
       "      <td>85.0</td>\n",
       "      <td>58.0</td>\n",
       "      <td>41.0</td>\n",
       "      <td>21.770462</td>\n",
       "      <td>80.319644</td>\n",
       "      <td>7.038096</td>\n",
       "      <td>226.655537</td>\n",
       "    </tr>\n",
       "    <tr>\n",
       "      <th>2</th>\n",
       "      <td>60.0</td>\n",
       "      <td>55.0</td>\n",
       "      <td>44.0</td>\n",
       "      <td>23.004459</td>\n",
       "      <td>82.320763</td>\n",
       "      <td>7.840207</td>\n",
       "      <td>263.964248</td>\n",
       "    </tr>\n",
       "    <tr>\n",
       "      <th>3</th>\n",
       "      <td>74.0</td>\n",
       "      <td>35.0</td>\n",
       "      <td>40.0</td>\n",
       "      <td>26.491096</td>\n",
       "      <td>80.158363</td>\n",
       "      <td>6.980401</td>\n",
       "      <td>242.864034</td>\n",
       "    </tr>\n",
       "    <tr>\n",
       "      <th>4</th>\n",
       "      <td>78.0</td>\n",
       "      <td>42.0</td>\n",
       "      <td>42.0</td>\n",
       "      <td>20.130175</td>\n",
       "      <td>81.604873</td>\n",
       "      <td>7.628473</td>\n",
       "      <td>262.717340</td>\n",
       "    </tr>\n",
       "  </tbody>\n",
       "</table>\n",
       "</div>"
      ],
      "text/plain": [
       "      0     1     2          3          4         5           6\n",
       "0  90.0  42.0  43.0  20.879744  82.002744  6.502985  202.935536\n",
       "1  85.0  58.0  41.0  21.770462  80.319644  7.038096  226.655537\n",
       "2  60.0  55.0  44.0  23.004459  82.320763  7.840207  263.964248\n",
       "3  74.0  35.0  40.0  26.491096  80.158363  6.980401  242.864034\n",
       "4  78.0  42.0  42.0  20.130175  81.604873  7.628473  262.717340"
      ]
     },
     "execution_count": 41,
     "metadata": {},
     "output_type": "execute_result"
    }
   ],
   "source": [
    "z = df.drop(['label'],axis=1)\n",
    "z = df.loc[:,z.columns].values\n",
    "x_df = pd.DataFrame(z)\n",
    "x_df.head()"
   ]
  },
  {
   "cell_type": "code",
   "execution_count": 42,
   "metadata": {
    "execution": {
     "iopub.execute_input": "2021-08-07T10:37:15.240105Z",
     "iopub.status.busy": "2021-08-07T10:37:15.239694Z",
     "iopub.status.idle": "2021-08-07T10:37:36.073002Z",
     "shell.execute_reply": "2021-08-07T10:37:36.071935Z",
     "shell.execute_reply.started": "2021-08-07T10:37:15.240066Z"
    }
   },
   "outputs": [
    {
     "data": {
      "image/png": "[encoded data removed]",
      "text/plain": [
       "<Figure size 720x288 with 1 Axes>"
      ]
     },
     "metadata": {
      "needs_background": "light"
     },
     "output_type": "display_data"
    }
   ],
   "source": [
    "#Determine Optimum number of cluster by elbow method\n",
    "from sklearn.cluster import KMeans\n",
    "plt.rcParams['figure.figsize'] = (10,4)\n",
    "wcss = []\n",
    "for i in range (1,11):\n",
    "    km = KMeans(n_clusters =i, init= 'k-means++', max_iter=300, n_init=10, random_state=0)\n",
    "    km.fit(z)\n",
    "    wcss.append(km.inertia_)\n",
    "    \n",
    "#plot the results\n",
    "plt.plot(range(1,11), wcss)\n",
    "plt.title('Elbow Method', fontsize= 15)\n",
    "plt.xlabel('No. of cluster')\n",
    "plt.ylabel('wcss')\n",
    "plt.show()"
   ]
  },
  {
   "cell_type": "markdown",
   "metadata": {},
   "source": [
    "Observation:\n",
    "\n",
    "we get two elbows at 3 and 4. As per elbow method definition we take the last one\n",
    "so our no. of cluster will be #4"
   ]
  },
  {
   "cell_type": "code",
   "execution_count": 43,
   "metadata": {
    "execution": {
     "iopub.execute_input": "2021-08-07T10:37:36.075444Z",
     "iopub.status.busy": "2021-08-07T10:37:36.074767Z",
     "iopub.status.idle": "2021-08-07T10:37:37.419950Z",
     "shell.execute_reply": "2021-08-07T10:37:37.418941Z",
     "shell.execute_reply.started": "2021-08-07T10:37:36.075388Z"
    }
   },
   "outputs": [],
   "source": [
    "km = KMeans(n_clusters =4, init= 'k-means++', max_iter=300, n_init=10, random_state=0)\n",
    "y_means= km.fit_predict(z)\n",
    "\n",
    "a = df['label']\n",
    "y_means = pd.DataFrame(y_means)\n",
    "w = pd.concat([y_means, a], axis=1)\n",
    "w =w.rename(columns= {0:'cluster'})"
   ]
  },
  {
   "cell_type": "code",
   "execution_count": 44,
   "metadata": {
    "execution": {
     "iopub.execute_input": "2021-08-07T10:37:37.421648Z",
     "iopub.status.busy": "2021-08-07T10:37:37.421301Z",
     "iopub.status.idle": "2021-08-07T10:37:37.439567Z",
     "shell.execute_reply": "2021-08-07T10:37:37.438525Z",
     "shell.execute_reply.started": "2021-08-07T10:37:37.421614Z"
    }
   },
   "outputs": [
    {
     "name": "stdout",
     "output_type": "stream",
     "text": [
      "Crops is cluster 0 ['maize' 'chickpea' 'kidneybeans' 'pigeonpeas' 'mothbeans' 'mungbean'\n",
      " 'blackgram' 'lentil' 'pomegranate' 'mango' 'orange' 'papaya' 'coconut']\n",
      "---------------------------------------------------------------------------------------\n",
      "Crops is cluster 1 ['maize' 'banana' 'watermelon' 'muskmelon' 'papaya' 'cotton' 'coffee']\n",
      "---------------------------------------------------------------------------------------\n",
      "Crops is cluster 2 ['grapes' 'apple']\n",
      "---------------------------------------------------------------------------------------\n",
      "Crops is cluster 3 ['rice' 'pigeonpeas' 'papaya' 'coconut' 'jute' 'coffee']\n",
      "---------------------------------------------------------------------------------------\n"
     ]
    }
   ],
   "source": [
    "#Check Cluster of each group\n",
    "\n",
    "for i in range(0,4): #for 4 clusters 0,1,2,3\n",
    "    print('Crops is cluster', i, w[w['cluster']==i]['label'].unique())\n",
    "    print('---------------------------------------------------------------------------------------')"
   ]
  },
  {
   "cell_type": "markdown",
   "metadata": {},
   "source": [
    "Observation:\n",
    "\n",
    "some of the crops are more than in one cluster. This is known as soft clustering\n",
    "\n",
    "We want our crops to be in single cluster so next step we are going to do hard clustering"
   ]
  },
  {
   "cell_type": "markdown",
   "metadata": {},
   "source": [
    "In hard clustering we can able to see each data points are completely in one cluster or not"
   ]
  },
  {
   "cell_type": "code",
   "execution_count": 45,
   "metadata": {
    "execution": {
     "iopub.execute_input": "2021-08-07T10:37:37.443916Z",
     "iopub.status.busy": "2021-08-07T10:37:37.443394Z",
     "iopub.status.idle": "2021-08-07T10:37:37.469015Z",
     "shell.execute_reply": "2021-08-07T10:37:37.468183Z",
     "shell.execute_reply.started": "2021-08-07T10:37:37.443875Z"
    }
   },
   "outputs": [
    {
     "name": "stdout",
     "output_type": "stream",
     "text": [
      "Crops in Cluster 0 : ['chickpea', 'kidneybeans', 'mothbeans', 'mungbean', 'blackgram', 'lentil', 'pomegranate', 'mango', 'orange']\n",
      "--------------------------------------------------------------------------------\n",
      "Crops in Cluster 1 : ['maize', 'banana', 'watermelon', 'muskmelon', 'cotton']\n",
      "--------------------------------------------------------------------------------\n",
      "Crops in Cluster 2 : ['grapes', 'apple']\n",
      "--------------------------------------------------------------------------------\n",
      "Crops in Cluster 3 : ['rice', 'pigeonpeas', 'papaya', 'coconut', 'jute', 'coffee']\n",
      "--------------------------------------------------------------------------------\n"
     ]
    }
   ],
   "source": [
    "for i in range(0,4):\n",
    "    counts=w[w['cluster']==i]['label'].value_counts()\n",
    "    d = w.loc[w['label'].isin(counts.index[counts>=50])]\n",
    "    d=d['label'].value_counts()\n",
    "    print('Crops in Cluster', i,':', list(d.index))\n",
    "    print('--------------------------------------------------------------------------------')"
   ]
  },
  {
   "cell_type": "code",
   "execution_count": 46,
   "metadata": {
    "execution": {
     "iopub.execute_input": "2021-08-07T10:37:37.473651Z",
     "iopub.status.busy": "2021-08-07T10:37:37.472969Z",
     "iopub.status.idle": "2021-08-07T10:37:45.246781Z",
     "shell.execute_reply": "2021-08-07T10:37:45.245501Z",
     "shell.execute_reply.started": "2021-08-07T10:37:37.473592Z"
    }
   },
   "outputs": [
    {
     "data": {
      "text/plain": [
       "Text(0.5, 0, 'rainfall')"
      ]
     },
     "execution_count": 46,
     "metadata": {},
     "output_type": "execute_result"
    },
    {
     "data": {
      "image/png": "[encoded data removed]",
      "text/plain": [
       "<Figure size 1080x2016 with 7 Axes>"
      ]
     },
     "metadata": {
      "needs_background": "light"
     },
     "output_type": "display_data"
    }
   ],
   "source": [
    "plt.figure(figsize=(15, 28))\n",
    "plt.subplot(4,2,1)\n",
    "sns.barplot(df['N'], df['label'])\n",
    "plt.ylabel(' ')\n",
    "plt.xlabel('Nitrogen')\n",
    "plt.subplot(4,2,2)\n",
    "sns.barplot(df['P'], df['label'])\n",
    "plt.ylabel(' ')\n",
    "plt.xlabel('Phophorus')\n",
    "plt.subplot(4,2,3)\n",
    "sns.barplot(df['K'], df['label'])\n",
    "plt.ylabel(' ')\n",
    "plt.xlabel('Potassium')\n",
    "plt.subplot(4,2,4)\n",
    "sns.barplot(df['temperature'], df['label'])\n",
    "plt.ylabel(' ')\n",
    "plt.xlabel('Temperature')\n",
    "plt.subplot(4,2,5)\n",
    "sns.barplot(df['humidity'], df['label'])\n",
    "plt.ylabel(' ')\n",
    "plt.xlabel('Humidity')\n",
    "plt.subplot(4,2,6)\n",
    "sns.barplot(df['ph'], df['label'])\n",
    "plt.ylabel(' ')\n",
    "plt.xlabel('pH')\n",
    "plt.subplot(4,2,7)\n",
    "sns.barplot(df['rainfall'], df['label'])\n",
    "plt.ylabel(' ')\n",
    "plt.xlabel('rainfall')\n",
    "#apply for loop\n"
   ]
  },
  {
   "cell_type": "markdown",
   "metadata": {},
   "source": [
    "**Observation**\n",
    "1. Cotton requires high amount of Nitrogen among all\n",
    "2. Grapes and Apple requires very high amount of phosphorus and Potassium\n",
    "3. least amount of potassium is the favorable condition of Orange to grow\n",
    "4. Papaya requires more than 30 degree to grow well whereas others required <= 30 degree\n",
    "5. chickpea and kidneybeans humidity requires very less humidity to grow\n",
    "6. All crops require more than pH value of 5 to grow\n",
    "7. Rice requires very heavy rainfall (more than 200mm) where the muskmelon requires the least\n"
   ]
  },
  {
   "cell_type": "code",
   "execution_count": 47,
   "metadata": {
    "execution": {
     "iopub.execute_input": "2021-08-07T10:37:45.249063Z",
     "iopub.status.busy": "2021-08-07T10:37:45.248663Z",
     "iopub.status.idle": "2021-08-07T10:37:45.266577Z",
     "shell.execute_reply": "2021-08-07T10:37:45.265255Z",
     "shell.execute_reply.started": "2021-08-07T10:37:45.249026Z"
    }
   },
   "outputs": [
    {
     "data": {
      "text/html": [
       "<div>\n",
       "<style scoped>\n",
       "    .dataframe tbody tr th:only-of-type {\n",
       "        vertical-align: middle;\n",
       "    }\n",
       "\n",
       "    .dataframe tbody tr th {\n",
       "        vertical-align: top;\n",
       "    }\n",
       "\n",
       "    .dataframe thead th {\n",
       "        text-align: right;\n",
       "    }\n",
       "</style>\n",
       "<table border=\"1\" class=\"dataframe\">\n",
       "  <thead>\n",
       "    <tr style=\"text-align: right;\">\n",
       "      <th></th>\n",
       "      <th>N</th>\n",
       "      <th>P</th>\n",
       "      <th>K</th>\n",
       "      <th>temperature</th>\n",
       "      <th>humidity</th>\n",
       "      <th>ph</th>\n",
       "      <th>rainfall</th>\n",
       "    </tr>\n",
       "  </thead>\n",
       "  <tbody>\n",
       "    <tr>\n",
       "      <th>0</th>\n",
       "      <td>90</td>\n",
       "      <td>42</td>\n",
       "      <td>43</td>\n",
       "      <td>20.879744</td>\n",
       "      <td>82.002744</td>\n",
       "      <td>6.502985</td>\n",
       "      <td>202.935536</td>\n",
       "    </tr>\n",
       "    <tr>\n",
       "      <th>1</th>\n",
       "      <td>85</td>\n",
       "      <td>58</td>\n",
       "      <td>41</td>\n",
       "      <td>21.770462</td>\n",
       "      <td>80.319644</td>\n",
       "      <td>7.038096</td>\n",
       "      <td>226.655537</td>\n",
       "    </tr>\n",
       "    <tr>\n",
       "      <th>2</th>\n",
       "      <td>60</td>\n",
       "      <td>55</td>\n",
       "      <td>44</td>\n",
       "      <td>23.004459</td>\n",
       "      <td>82.320763</td>\n",
       "      <td>7.840207</td>\n",
       "      <td>263.964248</td>\n",
       "    </tr>\n",
       "    <tr>\n",
       "      <th>3</th>\n",
       "      <td>74</td>\n",
       "      <td>35</td>\n",
       "      <td>40</td>\n",
       "      <td>26.491096</td>\n",
       "      <td>80.158363</td>\n",
       "      <td>6.980401</td>\n",
       "      <td>242.864034</td>\n",
       "    </tr>\n",
       "    <tr>\n",
       "      <th>4</th>\n",
       "      <td>78</td>\n",
       "      <td>42</td>\n",
       "      <td>42</td>\n",
       "      <td>20.130175</td>\n",
       "      <td>81.604873</td>\n",
       "      <td>7.628473</td>\n",
       "      <td>262.717340</td>\n",
       "    </tr>\n",
       "  </tbody>\n",
       "</table>\n",
       "</div>"
      ],
      "text/plain": [
       "    N   P   K  temperature   humidity        ph    rainfall\n",
       "0  90  42  43    20.879744  82.002744  6.502985  202.935536\n",
       "1  85  58  41    21.770462  80.319644  7.038096  226.655537\n",
       "2  60  55  44    23.004459  82.320763  7.840207  263.964248\n",
       "3  74  35  40    26.491096  80.158363  6.980401  242.864034\n",
       "4  78  42  42    20.130175  81.604873  7.628473  262.717340"
      ]
     },
     "execution_count": 47,
     "metadata": {},
     "output_type": "execute_result"
    }
   ],
   "source": [
    "x = df.drop(['label'], axis=1)\n",
    "x.head()"
   ]
  },
  {
   "cell_type": "code",
   "execution_count": 48,
   "metadata": {
    "execution": {
     "iopub.execute_input": "2021-08-07T10:37:45.270273Z",
     "iopub.status.busy": "2021-08-07T10:37:45.269835Z",
     "iopub.status.idle": "2021-08-07T10:37:45.285387Z",
     "shell.execute_reply": "2021-08-07T10:37:45.284028Z",
     "shell.execute_reply.started": "2021-08-07T10:37:45.270193Z"
    }
   },
   "outputs": [
    {
     "data": {
      "text/plain": [
       "0    rice\n",
       "1    rice\n",
       "2    rice\n",
       "3    rice\n",
       "4    rice\n",
       "Name: label, dtype: object"
      ]
     },
     "execution_count": 48,
     "metadata": {},
     "output_type": "execute_result"
    }
   ],
   "source": [
    "y = df['label']\n",
    "y.head()"
   ]
  },
  {
   "cell_type": "code",
   "execution_count": 49,
   "metadata": {
    "execution": {
     "iopub.execute_input": "2021-08-07T10:37:45.288368Z",
     "iopub.status.busy": "2021-08-07T10:37:45.287881Z",
     "iopub.status.idle": "2021-08-07T10:37:45.300139Z",
     "shell.execute_reply": "2021-08-07T10:37:45.298537Z",
     "shell.execute_reply.started": "2021-08-07T10:37:45.288319Z"
    }
   },
   "outputs": [
    {
     "name": "stdout",
     "output_type": "stream",
     "text": [
      "shape of x: (2200, 7)\n",
      "shape of y: (2200,)\n"
     ]
    }
   ],
   "source": [
    "print('shape of x:', x.shape)\n",
    "print('shape of y:', y.shape)"
   ]
  },
  {
   "cell_type": "code",
   "execution_count": 50,
   "metadata": {
    "execution": {
     "iopub.execute_input": "2021-08-07T10:40:47.590449Z",
     "iopub.status.busy": "2021-08-07T10:40:47.589996Z",
     "iopub.status.idle": "2021-08-07T10:40:47.601752Z",
     "shell.execute_reply": "2021-08-07T10:40:47.600516Z",
     "shell.execute_reply.started": "2021-08-07T10:40:47.590412Z"
    }
   },
   "outputs": [
    {
     "data": {
      "text/plain": [
       "rice           100\n",
       "maize          100\n",
       "jute           100\n",
       "cotton         100\n",
       "coconut        100\n",
       "papaya         100\n",
       "orange         100\n",
       "apple          100\n",
       "muskmelon      100\n",
       "watermelon     100\n",
       "grapes         100\n",
       "mango          100\n",
       "banana         100\n",
       "pomegranate    100\n",
       "lentil         100\n",
       "blackgram      100\n",
       "mungbean       100\n",
       "mothbeans      100\n",
       "pigeonpeas     100\n",
       "kidneybeans    100\n",
       "chickpea       100\n",
       "coffee         100\n",
       "Name: label, dtype: int64"
      ]
     },
     "execution_count": 50,
     "metadata": {},
     "output_type": "execute_result"
    }
   ],
   "source": [
    "y.value_counts()"
   ]
  },
  {
   "cell_type": "code",
   "execution_count": 51,
   "metadata": {
    "execution": {
     "iopub.execute_input": "2021-08-07T10:37:45.301870Z",
     "iopub.status.busy": "2021-08-07T10:37:45.301491Z",
     "iopub.status.idle": "2021-08-07T10:37:45.316065Z",
     "shell.execute_reply": "2021-08-07T10:37:45.314243Z",
     "shell.execute_reply.started": "2021-08-07T10:37:45.301834Z"
    }
   },
   "outputs": [],
   "source": [
    "from sklearn.model_selection import train_test_split\n",
    "x_train, x_test, y_train, y_test = train_test_split(x,y, test_size=0.2, random_state=0)\n"
   ]
  },
  {
   "cell_type": "code",
   "execution_count": 52,
   "metadata": {
    "execution": {
     "iopub.execute_input": "2021-08-07T10:37:45.318839Z",
     "iopub.status.busy": "2021-08-07T10:37:45.318175Z",
     "iopub.status.idle": "2021-08-07T10:37:45.329059Z",
     "shell.execute_reply": "2021-08-07T10:37:45.327994Z",
     "shell.execute_reply.started": "2021-08-07T10:37:45.318778Z"
    }
   },
   "outputs": [],
   "source": [
    "from sklearn.metrics import accuracy_score,confusion_matrix"
   ]
  },
  {
   "cell_type": "code",
   "execution_count": 53,
   "metadata": {
    "execution": {
     "iopub.execute_input": "2021-08-07T10:37:45.344626Z",
     "iopub.status.busy": "2021-08-07T10:37:45.344155Z",
     "iopub.status.idle": "2021-08-07T10:37:45.972538Z",
     "shell.execute_reply": "2021-08-07T10:37:45.971437Z",
     "shell.execute_reply.started": "2021-08-07T10:37:45.344555Z"
    }
   },
   "outputs": [
    {
     "name": "stdout",
     "output_type": "stream",
     "text": [
      "Accuracy Score of KNN: 0.9772727272727273\n",
      "Accuracy Score of SVC: 0.9772727272727273\n",
      "Accuracy Score of decision tree: 0.9931818181818182\n",
      "Accuracy Score of Random Forest: 0.9977272727272727\n"
     ]
    }
   ],
   "source": [
    "from sklearn.neighbors import KNeighborsClassifier\n",
    "clf_knn = KNeighborsClassifier(n_neighbors=3)\n",
    "clf_knn.fit(x_train,y_train)\n",
    "y_pred1 = clf_knn.predict(x_test)\n",
    "print(\"Accuracy Score of KNN:\",accuracy_score(y_test,y_pred1))\n",
    "\n",
    "from sklearn.svm import SVC\n",
    "clf_svc = SVC()\n",
    "clf_svc.fit(x_train,y_train)\n",
    "y_pred2 = clf_svc.predict(x_test)\n",
    "print(\"Accuracy Score of SVC:\",accuracy_score(y_test,y_pred2))\n",
    "\n",
    "from sklearn.tree import DecisionTreeClassifier\n",
    "clf_dtc = DecisionTreeClassifier(criterion='entropy',random_state=7)\n",
    "clf_dtc.fit(x_train,y_train)\n",
    "y_pred3 = clf_dtc.predict(x_test)\n",
    "print(\"Accuracy Score of decision tree:\",accuracy_score(y_test,y_pred3))\n",
    "\n",
    "from sklearn.ensemble import RandomForestClassifier\n",
    "clf_rfc = RandomForestClassifier(random_state=1)\n",
    "clf_rfc.fit(x_train, y_train)\n",
    "y_pred4 = clf_rfc.predict(x_test)\n",
    "print(\"Accuracy Score of Random Forest:\",accuracy_score(y_test,y_pred4))"
   ]
  },
  {
   "cell_type": "markdown",
   "metadata": {},
   "source": [
    "Random forest gave us the best results"
   ]
  },
  {
   "cell_type": "code",
   "execution_count": 31,
   "metadata": {
    "execution": {
     "iopub.execute_input": "2021-08-07T10:37:45.974720Z",
     "iopub.status.busy": "2021-08-07T10:37:45.974059Z",
     "iopub.status.idle": "2021-08-07T10:37:46.030637Z",
     "shell.execute_reply": "2021-08-07T10:37:46.029515Z",
     "shell.execute_reply.started": "2021-08-07T10:37:45.974664Z"
    }
   },
   "outputs": [
    {
     "name": "stdout",
     "output_type": "stream",
     "text": [
      "Accuracy Score of Random Forest: 1.0\n"
     ]
    }
   ],
   "source": [
    "y_train_pred = clf_rfc.predict(x_train)\n",
    "print(\"Accuracy Score of Random Forest:\",accuracy_score(y_train,y_train_pred))"
   ]
  },
  {
   "cell_type": "code",
   "execution_count": 32,
   "metadata": {
    "execution": {
     "iopub.execute_input": "2021-08-07T10:37:46.032270Z",
     "iopub.status.busy": "2021-08-07T10:37:46.031938Z",
     "iopub.status.idle": "2021-08-07T10:37:46.045484Z",
     "shell.execute_reply": "2021-08-07T10:37:46.044583Z",
     "shell.execute_reply.started": "2021-08-07T10:37:46.032239Z"
    }
   },
   "outputs": [
    {
     "data": {
      "text/html": [
       "<div>\n",
       "<style scoped>\n",
       "    .dataframe tbody tr th:only-of-type {\n",
       "        vertical-align: middle;\n",
       "    }\n",
       "\n",
       "    .dataframe tbody tr th {\n",
       "        vertical-align: top;\n",
       "    }\n",
       "\n",
       "    .dataframe thead th {\n",
       "        text-align: right;\n",
       "    }\n",
       "</style>\n",
       "<table border=\"1\" class=\"dataframe\">\n",
       "  <thead>\n",
       "    <tr style=\"text-align: right;\">\n",
       "      <th></th>\n",
       "      <th>Real_class</th>\n",
       "      <th>Predicted_class</th>\n",
       "    </tr>\n",
       "  </thead>\n",
       "  <tbody>\n",
       "    <tr>\n",
       "      <th>1320</th>\n",
       "      <td>watermelon</td>\n",
       "      <td>watermelon</td>\n",
       "    </tr>\n",
       "    <tr>\n",
       "      <th>1367</th>\n",
       "      <td>watermelon</td>\n",
       "      <td>watermelon</td>\n",
       "    </tr>\n",
       "    <tr>\n",
       "      <th>1291</th>\n",
       "      <td>grapes</td>\n",
       "      <td>grapes</td>\n",
       "    </tr>\n",
       "    <tr>\n",
       "      <th>264</th>\n",
       "      <td>chickpea</td>\n",
       "      <td>chickpea</td>\n",
       "    </tr>\n",
       "    <tr>\n",
       "      <th>728</th>\n",
       "      <td>blackgram</td>\n",
       "      <td>blackgram</td>\n",
       "    </tr>\n",
       "  </tbody>\n",
       "</table>\n",
       "</div>"
      ],
      "text/plain": [
       "      Real_class Predicted_class\n",
       "1320  watermelon      watermelon\n",
       "1367  watermelon      watermelon\n",
       "1291      grapes          grapes\n",
       "264     chickpea        chickpea\n",
       "728    blackgram       blackgram"
      ]
     },
     "execution_count": 32,
     "metadata": {},
     "output_type": "execute_result"
    }
   ],
   "source": [
    "output = pd.DataFrame({'Real_class': y_test, 'Predicted_class': y_pred4})\n",
    "output.head()"
   ]
  },
  {
   "cell_type": "code",
   "execution_count": 33,
   "metadata": {
    "execution": {
     "iopub.execute_input": "2021-08-07T10:37:46.047086Z",
     "iopub.status.busy": "2021-08-07T10:37:46.046584Z",
     "iopub.status.idle": "2021-08-07T10:37:46.072731Z",
     "shell.execute_reply": "2021-08-07T10:37:46.071551Z",
     "shell.execute_reply.started": "2021-08-07T10:37:46.047053Z"
    }
   },
   "outputs": [
    {
     "data": {
      "text/plain": [
       "array(['rice'], dtype=object)"
      ]
     },
     "execution_count": 33,
     "metadata": {},
     "output_type": "execute_result"
    }
   ],
   "source": [
    "input = np.array([[90,42,43,20.879744,82.002744,6.502985,202.935536]])\n",
    "clf_rfc.predict(input)"
   ]
  },
  {
   "cell_type": "code",
   "execution_count": 34,
   "metadata": {
    "execution": {
     "iopub.execute_input": "2021-08-07T10:37:46.074108Z",
     "iopub.status.busy": "2021-08-07T10:37:46.073815Z",
     "iopub.status.idle": "2021-08-07T10:37:46.086375Z",
     "shell.execute_reply": "2021-08-07T10:37:46.084895Z",
     "shell.execute_reply.started": "2021-08-07T10:37:46.074080Z"
    }
   },
   "outputs": [
    {
     "name": "stdout",
     "output_type": "stream",
     "text": [
      "Submission was successfully saved!\n"
     ]
    }
   ],
   "source": [
    "output.to_csv('Optimizing Agricultural Production.csv', index=False)\n",
    "print(\"Submission was successfully saved!\")"
   ]
  },
  {
   "cell_type": "code",
   "execution_count": null,
   "metadata": {},
   "outputs": [],
   "source": []
  }
 ],
 "metadata": {
  "kernelspec": {
   "display_name": "Python 3 (ipykernel)",
   "language": "python",
   "name": "python3"
  },
  "language_info": {
   "codemirror_mode": {
    "name": "ipython",
    "version": 3
   },
   "file_extension": ".py",
   "mimetype": "text/x-python",
   "name": "python",
   "nbconvert_exporter": "python",
   "pygments_lexer": "ipython3",
   "version": "3.9.12"
  }
 },
 "nbformat": 4,
 "nbformat_minor": 4
}
